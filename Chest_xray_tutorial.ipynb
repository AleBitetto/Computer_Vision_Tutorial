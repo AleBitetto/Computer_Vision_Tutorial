{
  "nbformat": 4,
  "nbformat_minor": 0,
  "metadata": {
    "kernelspec": {
      "display_name": "Python 3",
      "language": "python",
      "name": "python3"
    },
    "language_info": {
      "codemirror_mode": {
        "name": "ipython",
        "version": 3
      },
      "file_extension": ".py",
      "mimetype": "text/x-python",
      "name": "python",
      "nbconvert_exporter": "python",
      "pygments_lexer": "ipython3",
      "version": "3.6.5"
    },
    "colab": {
      "name": "Chest_xray_tutorial.ipynb",
      "provenance": []
    }
  },
  "cells": [
    {
      "cell_type": "code",
      "metadata": {
        "id": "gjLLim_4nwLX"
      },
      "source": [
        "!pip install -U -q PyDrive\n",
        "\n",
        "from pydrive.auth import GoogleAuth\n",
        "from pydrive.drive import GoogleDrive\n",
        "from google.colab import auth\n",
        "from oauth2client.client import GoogleCredentials\n",
        "# Authenticate and create the PyDrive client.\n",
        "# This only needs to be done once per notebook.\n",
        "auth.authenticate_user()\n",
        "gauth = GoogleAuth()\n",
        "gauth.credentials = GoogleCredentials.get_application_default()\n",
        "drive = GoogleDrive(gauth)"
      ],
      "execution_count": 3,
      "outputs": []
    },
    {
      "cell_type": "code",
      "metadata": {
        "colab": {
          "base_uri": "https://localhost:8080/"
        },
        "id": "_05wqrkPnwLu",
        "outputId": "b9bc2c4f-d4bb-45d8-e6e7-ab54900cda0f"
      },
      "source": [
        "# Download and extract data\n",
        "fileId = drive.CreateFile({'id': '1hxYElFxXaygH0p6rNpY2n2_2hIMThUIC'})\n",
        "print('downloading', fileId['title'], '...', end=' ')\n",
        "fileId.GetContentFile('chest_xray.zip')\n",
        "print('Done')\n",
        "fileId = drive.CreateFile({'id': '1-MSH3ZCm396ugPK_jZBrRel9GXsYcMG5'})\n",
        "print('downloading', fileId['title'], '...', end=' ')\n",
        "fileId.GetContentFile('ieee8023.zip')\n",
        "print('Done')\n",
        "print('Extract data...', end=' ')\n",
        "!unzip -oq chest_xray.zip\n",
        "!unzip -oq ieee8023.zip\n",
        "print('Done')"
      ],
      "execution_count": 6,
      "outputs": [
        {
          "output_type": "stream",
          "text": [
            "downloading chest_xray.zip ... Done\n",
            "downloading ieee8023.zip ... Done\n",
            "Extract data... Done\n"
          ],
          "name": "stdout"
        }
      ]
    },
    {
      "cell_type": "code",
      "metadata": {
        "id": "TP3k8hXzn4bk"
      },
      "source": [
        ""
      ],
      "execution_count": null,
      "outputs": []
    }
  ]
}